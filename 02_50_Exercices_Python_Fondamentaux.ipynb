{
  "cells": [
    {
      "cell_type": "markdown",
      "metadata": {},
      "source": [
        "t "
      ]
    },
    {
      "cell_type": "markdown",
      "metadata": {},
      "source": [
        "ctions comme tuas fait je vexu le plus simple possible pour un debutan"
      ]
    }
  ],
  "metadata": {
    "language_info": {
      "name": "python"
    }
  },
  "nbformat": 4,
  "nbformat_minor": 2
}
